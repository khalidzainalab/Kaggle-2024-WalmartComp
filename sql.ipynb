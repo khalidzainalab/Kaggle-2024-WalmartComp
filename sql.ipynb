{
 "cells": [
  {
   "cell_type": "markdown",
   "id": "7aed9326",
   "metadata": {},
   "source": [
    "Install mysql_connector\n",
    "pip install mysql-connector-python"
   ]
  },
  {
   "cell_type": "markdown",
   "id": "4c768545",
   "metadata": {},
   "source": [
    "### MySQL connection with python "
   ]
  },
  {
   "cell_type": "code",
   "execution_count": 1,
   "id": "27c12ef5",
   "metadata": {},
   "outputs": [],
   "source": [
    "#import libraries\n",
    "\n",
    "import mysql.connector\n",
    "from mysql.connector import Error\n",
    "import pandas as pd\n",
    "from sqlalchemy import create_engine"
   ]
  },
  {
   "cell_type": "code",
   "execution_count": 2,
   "id": "8fb7da72",
   "metadata": {},
   "outputs": [
    {
     "name": "stdout",
     "output_type": "stream",
     "text": [
      "MySQL Database connection successful\n"
     ]
    }
   ],
   "source": [
    "#create connection with server\n",
    "def  create_server_connection(host_name, user_name, user_password):\n",
    "    connection = None\n",
    "    try:\n",
    "        connection = mysql.connector.connect(\n",
    "            host=host_name,\n",
    "            user=user_name,\n",
    "            passwd=user_password,\n",
    "        )\n",
    "        print(\"MySQL Database connection successful\")\n",
    "    except Error as err:\n",
    "        print(f\"The error '{err}' occurred\")\n",
    "\n",
    "    return connection\n",
    "\n",
    "#pu mysql terminal password\n",
    "\n",
    "pw = \"password\"  # can edit it accordingly to your password\n",
    "\n",
    "#database name\n",
    "db = \"$$$$$_hometest\"\n",
    "connection =  create_server_connection(\"localhost\", \"root\", pw)  #can change according to your server details."
   ]
  },
  {
   "cell_type": "code",
   "execution_count": 3,
   "id": "4d6bb1b2",
   "metadata": {},
   "outputs": [
    {
     "name": "stdout",
     "output_type": "stream",
     "text": [
      "Database created successfully\n"
     ]
    }
   ],
   "source": [
    "#Create database for $$$$$_hometest\n",
    "def create_database(connection, query): #create database\n",
    "    cursor = connection.cursor()\n",
    "    try:\n",
    "        cursor.execute(query)\n",
    "        print(\"Database created successfully\")\n",
    "    except Error as err:\n",
    "        print(f\"The error '{err}' occurred\")\n",
    "\n",
    "create_database_query = \"CREATE DATABASE IF NOT EXISTS $$$$$_hometest\"\n",
    "create_database(connection, create_database_query)"
   ]
  },
  {
   "cell_type": "code",
   "execution_count": 4,
   "id": "ed2d0803",
   "metadata": {},
   "outputs": [],
   "source": [
    "# connect to database\n",
    "def create_db_connection(host_name, user_name, user_password, db_name):\n",
    "    connection = None\n",
    "    try:\n",
    "        connection = mysql.connector.connect(\n",
    "            host=host_name,\n",
    "            user=user_name,\n",
    "            passwd=user_password,\n",
    "            database=db_name\n",
    "        )\n",
    "        print(\"MySQL Database connection successful\")\n",
    "    except Error as err:\n",
    "        print(f\"The error '{err}' occurred\")\n",
    "    return connection"
   ]
  },
  {
   "cell_type": "code",
   "execution_count": 5,
   "id": "9d93b391",
   "metadata": {},
   "outputs": [],
   "source": [
    "# execute SQL queries \n",
    "\n",
    "def execute_query(connection, query):\n",
    "    cursor = connection.cursor()\n",
    "    try:\n",
    "        cursor.execute(query)\n",
    "        connection.commit()\n",
    "        print(\"Query successful\")\n",
    "    except Error as err:\n",
    "        print(f\"The error '{err}' occurred\")"
   ]
  },
  {
   "cell_type": "code",
   "execution_count": 6,
   "id": "c61fcaae",
   "metadata": {
    "scrolled": true
   },
   "outputs": [
    {
     "name": "stdout",
     "output_type": "stream",
     "text": [
      "MySQL Database connection successful\n",
      "Query successful\n",
      "Query successful\n",
      "Query successful\n",
      "Query successful\n"
     ]
    }
   ],
   "source": [
    "#create table for stores\n",
    "create_stores_table = \"\"\"\n",
    "CREATE TABLE IF NOT EXISTS stores (\n",
    "    Store INT PRIMARY KEY,\n",
    "    Type CHAR(1),\n",
    "    Size INT\n",
    ");\n",
    "\"\"\"\n",
    "\n",
    "#create table for train\n",
    "create_train_table = \"\"\"\n",
    "CREATE TABLE IF NOT EXISTS train (\n",
    "    Store INT,\n",
    "    Dept INT,\n",
    "    Size INT,\n",
    "    Date DATE,\n",
    "    Weekly_Sales FLOAT,\n",
    "    IsHoliday BOOLEAN,\n",
    "    FOREIGN KEY (Store) REFERENCES stores(Store)\n",
    ");\n",
    "\"\"\"\n",
    "\n",
    "#create table for features \n",
    "create_features_table = \"\"\"\n",
    "CREATE TABLE IF NOT EXISTS features (\n",
    "    Store INT,\n",
    "    Date DATE,\n",
    "    Temperature FLOAT,\n",
    "    Fuel_Price FLOAT,\n",
    "    MarkDown1 FLOAT,\n",
    "    MarkDown2 FLOAT,\n",
    "    MarkDown3 FLOAT,\n",
    "    MarkDown4 FLOAT,\n",
    "    MarkDown5 FLOAT,\n",
    "    CPI FLOAT,\n",
    "    Unemployment FLOAT,\n",
    "    IsHoliday BOOLEAN,\n",
    "    FOREIGN KEY (Store) REFERENCES stores(Store)\n",
    ");\n",
    "\"\"\"\n",
    "\n",
    "create_test_table = \"\"\"\n",
    "CREATE TABLE IF NOT EXISTS test (\n",
    "    Store INT,\n",
    "    Dept INT,\n",
    "    Date DATE,\n",
    "    IsHoliday BOOLEAN,\n",
    "    FOREIGN KEY (Store) REFERENCES stores(Store)\n",
    ");\n",
    "\"\"\"\n",
    "\n",
    "#create connnection \n",
    "connection = create_db_connection(\"localhost\", \"root\", pw, db)\n",
    "\n",
    "#execute the queries\n",
    "exec_query_stores_table = execute_query(connection, create_stores_table)\n",
    "exec_query_train_table = execute_query(connection, create_train_table)\n",
    "exec_query_features_table = execute_query(connection, create_features_table)\n",
    "exec_query_test_table = execute_query(connection, create_test_table)"
   ]
  },
  {
   "cell_type": "markdown",
   "id": "8d12c8d8",
   "metadata": {},
   "source": [
    "## Loading the data "
   ]
  },
  {
   "cell_type": "markdown",
   "id": "8a82dfdc",
   "metadata": {},
   "source": [
    "pip install pandas sqlalchemy\n",
    "pip install mysqlclient"
   ]
  },
  {
   "cell_type": "code",
   "execution_count": 8,
   "id": "d73bfbf1",
   "metadata": {},
   "outputs": [],
   "source": [
    "#read csv files into dataframes\n",
    "stores_data = pd.read_csv('stores.csv')\n",
    "train_data = pd.read_csv('train.csv')\n",
    "features_data = pd.read_csv('features.csv')\n",
    "test_data = pd.read_csv('test.csv')"
   ]
  },
  {
   "cell_type": "code",
   "execution_count": 9,
   "id": "a201c15b",
   "metadata": {},
   "outputs": [
    {
     "data": {
      "text/plain": [
       "115064"
      ]
     },
     "execution_count": 9,
     "metadata": {},
     "output_type": "execute_result"
    }
   ],
   "source": [
    "from sqlalchemy import create_engine\n",
    "\n",
    "# Replace these variables with your actual connection details\n",
    "db_type = 'mysql'\n",
    "username = 'root'\n",
    "password = 'password'\n",
    "host = 'localhost'\n",
    "database_name = '$$$$$_hometest'\n",
    "\n",
    "# Construct the connection string\n",
    "connection_str = f'{db_type}://{username}:{password}@{host}/{database_name}'\n",
    "\n",
    "# Create SQLAlchemy engine\n",
    "engine = create_engine(connection_str)\n",
    "\n",
    "# Use pandas to write DataFrames into SQL tables\n",
    "stores_data.to_sql('stores', con=engine, if_exists='append', index=False)\n",
    "train_data.to_sql('train', con=engine, if_exists='append', index=False)\n",
    "features_data.to_sql('features', con=engine, if_exists='append', index=False)\n",
    "test_data.to_sql('test', con=engine, if_exists='append', index=False)\n"
   ]
  }
 ],
 "metadata": {
  "kernelspec": {
   "display_name": "Python 3 (ipykernel)",
   "language": "python",
   "name": "python3"
  },
  "language_info": {
   "codemirror_mode": {
    "name": "ipython",
    "version": 3
   },
   "file_extension": ".py",
   "mimetype": "text/x-python",
   "name": "python",
   "nbconvert_exporter": "python",
   "pygments_lexer": "ipython3",
   "version": "3.11.5"
  }
 },
 "nbformat": 4,
 "nbformat_minor": 5
}
